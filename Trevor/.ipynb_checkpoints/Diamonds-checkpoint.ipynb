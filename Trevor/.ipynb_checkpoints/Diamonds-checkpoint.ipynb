{
 "cells": [
  {
   "cell_type": "code",
   "execution_count": 1,
   "id": "initial_id",
   "metadata": {
    "ExecuteTime": {
     "end_time": "2024-05-19T20:18:53.980283Z",
     "start_time": "2024-05-19T20:18:53.968687Z"
    }
   },
   "outputs": [],
   "source": [
    "%load_ext autoreload\n",
    "%autoreload 2\n",
    "\n",
    "#!pip install openml --quiet\n",
    "from sklearn.model_selection import train_test_split\n",
    "from sklearn.preprocessing import StandardScaler\n",
    "from sklearn import preprocessing\n",
    "import openml\n",
    "from gradient_descent import GDRegressor\n",
    "from knn import KNN\n",
    "from sklearn.neighbors import KNeighborsRegressor\n",
    "from sklearn.linear_model import SGDRegressor\n",
    "from sklearn.ensemble import RandomForestRegressor\n",
    "from sklearn.metrics import mean_squared_error, r2_score\n",
    "import time"
   ]
  },
  {
   "cell_type": "code",
   "execution_count": 2,
   "id": "56867f803f3a2fd2",
   "metadata": {
    "ExecuteTime": {
     "end_time": "2024-05-19T20:18:54.011376Z",
     "start_time": "2024-05-19T20:18:53.997412Z"
    }
   },
   "outputs": [],
   "source": [
    "import pandas as pd\n",
    "import numpy as np\n",
    "import seaborn as sns\n",
    "import matplotlib.pyplot as plt"
   ]
  },
  {
   "cell_type": "code",
   "execution_count": 4,
   "id": "b66fd47b35d70060",
   "metadata": {
    "ExecuteTime": {
     "end_time": "2024-05-19T20:18:54.138557Z",
     "start_time": "2024-05-19T20:18:54.122555Z"
    }
   },
   "outputs": [
    {
     "name": "stderr",
     "output_type": "stream",
     "text": [
      "/tmp/ipykernel_145652/196890241.py:2: FutureWarning: Starting from Version 0.15 `download_data`, `download_qualities`, and `download_features_meta_data` will all be ``False`` instead of ``True`` by default to enable lazy loading. To disable this message until version 0.15 explicitly set `download_data`, `download_qualities`, and `download_features_meta_data` to a bool while calling `get_dataset`.\n",
      "  diamonds = openml.datasets.get_dataset(42225)\n"
     ]
    }
   ],
   "source": [
    "#Importing dataset from openml\n",
    "diamonds = openml.datasets.get_dataset(42225)"
   ]
  },
  {
   "cell_type": "code",
   "execution_count": 5,
   "id": "43b770296cbfafdd",
   "metadata": {
    "ExecuteTime": {
     "end_time": "2024-05-19T20:18:54.216559Z",
     "start_time": "2024-05-19T20:18:54.171557Z"
    }
   },
   "outputs": [
    {
     "data": {
      "text/html": [
       "<div>\n",
       "<style scoped>\n",
       "    .dataframe tbody tr th:only-of-type {\n",
       "        vertical-align: middle;\n",
       "    }\n",
       "\n",
       "    .dataframe tbody tr th {\n",
       "        vertical-align: top;\n",
       "    }\n",
       "\n",
       "    .dataframe thead th {\n",
       "        text-align: right;\n",
       "    }\n",
       "</style>\n",
       "<table border=\"1\" class=\"dataframe\">\n",
       "  <thead>\n",
       "    <tr style=\"text-align: right;\">\n",
       "      <th></th>\n",
       "      <th>carat</th>\n",
       "      <th>cut</th>\n",
       "      <th>color</th>\n",
       "      <th>clarity</th>\n",
       "      <th>depth</th>\n",
       "      <th>table</th>\n",
       "      <th>x</th>\n",
       "      <th>y</th>\n",
       "      <th>z</th>\n",
       "    </tr>\n",
       "  </thead>\n",
       "  <tbody>\n",
       "    <tr>\n",
       "      <th>0</th>\n",
       "      <td>0.23</td>\n",
       "      <td>Ideal</td>\n",
       "      <td>E</td>\n",
       "      <td>SI2</td>\n",
       "      <td>61.5</td>\n",
       "      <td>55.0</td>\n",
       "      <td>3.95</td>\n",
       "      <td>3.98</td>\n",
       "      <td>2.43</td>\n",
       "    </tr>\n",
       "    <tr>\n",
       "      <th>1</th>\n",
       "      <td>0.21</td>\n",
       "      <td>Premium</td>\n",
       "      <td>E</td>\n",
       "      <td>SI1</td>\n",
       "      <td>59.8</td>\n",
       "      <td>61.0</td>\n",
       "      <td>3.89</td>\n",
       "      <td>3.84</td>\n",
       "      <td>2.31</td>\n",
       "    </tr>\n",
       "    <tr>\n",
       "      <th>2</th>\n",
       "      <td>0.23</td>\n",
       "      <td>Good</td>\n",
       "      <td>E</td>\n",
       "      <td>VS1</td>\n",
       "      <td>56.9</td>\n",
       "      <td>65.0</td>\n",
       "      <td>4.05</td>\n",
       "      <td>4.07</td>\n",
       "      <td>2.31</td>\n",
       "    </tr>\n",
       "    <tr>\n",
       "      <th>3</th>\n",
       "      <td>0.29</td>\n",
       "      <td>Premium</td>\n",
       "      <td>I</td>\n",
       "      <td>VS2</td>\n",
       "      <td>62.4</td>\n",
       "      <td>58.0</td>\n",
       "      <td>4.20</td>\n",
       "      <td>4.23</td>\n",
       "      <td>2.63</td>\n",
       "    </tr>\n",
       "    <tr>\n",
       "      <th>4</th>\n",
       "      <td>0.31</td>\n",
       "      <td>Good</td>\n",
       "      <td>J</td>\n",
       "      <td>SI2</td>\n",
       "      <td>63.3</td>\n",
       "      <td>58.0</td>\n",
       "      <td>4.34</td>\n",
       "      <td>4.35</td>\n",
       "      <td>2.75</td>\n",
       "    </tr>\n",
       "  </tbody>\n",
       "</table>\n",
       "</div>"
      ],
      "text/plain": [
       "   carat      cut color clarity  depth  table     x     y     z\n",
       "0   0.23    Ideal     E     SI2   61.5   55.0  3.95  3.98  2.43\n",
       "1   0.21  Premium     E     SI1   59.8   61.0  3.89  3.84  2.31\n",
       "2   0.23     Good     E     VS1   56.9   65.0  4.05  4.07  2.31\n",
       "3   0.29  Premium     I     VS2   62.4   58.0  4.20  4.23  2.63\n",
       "4   0.31     Good     J     SI2   63.3   58.0  4.34  4.35  2.75"
      ]
     },
     "execution_count": 5,
     "metadata": {},
     "output_type": "execute_result"
    }
   ],
   "source": [
    "X, y, categorical_indicator, attribute_names = diamonds.get_data(\n",
    "    target=diamonds.default_target_attribute,\n",
    "    dataset_format='dataframe'\n",
    ")\n",
    "\n",
    "X.head()"
   ]
  },
  {
   "cell_type": "code",
   "execution_count": 6,
   "id": "7f786dd0d5713f37",
   "metadata": {
    "ExecuteTime": {
     "end_time": "2024-05-19T20:18:54.309878Z",
     "start_time": "2024-05-19T20:18:54.297284Z"
    }
   },
   "outputs": [
    {
     "data": {
      "text/plain": [
       "carat      0\n",
       "cut        0\n",
       "color      0\n",
       "clarity    0\n",
       "depth      0\n",
       "table      0\n",
       "x          0\n",
       "y          0\n",
       "z          0\n",
       "dtype: int64"
      ]
     },
     "execution_count": 6,
     "metadata": {},
     "output_type": "execute_result"
    }
   ],
   "source": [
    "#Checking for missing values\n",
    "X.isnull().sum()"
   ]
  },
  {
   "cell_type": "code",
   "execution_count": 7,
   "id": "22f03355daece10e",
   "metadata": {
    "ExecuteTime": {
     "end_time": "2024-05-19T20:18:54.452583Z",
     "start_time": "2024-05-19T20:18:54.423593Z"
    }
   },
   "outputs": [
    {
     "data": {
      "text/plain": [
       "price\n",
       "605      132\n",
       "802      127\n",
       "625      126\n",
       "828      125\n",
       "776      124\n",
       "        ... \n",
       "8816       1\n",
       "14704      1\n",
       "14699      1\n",
       "14698      1\n",
       "9793       1\n",
       "Name: count, Length: 11602, dtype: int64"
      ]
     },
     "execution_count": 7,
     "metadata": {},
     "output_type": "execute_result"
    }
   ],
   "source": [
    "#Checking the distribution of the target variable\n",
    "y.value_counts()"
   ]
  },
  {
   "cell_type": "code",
   "execution_count": 8,
   "id": "cc3e61962cac6e28",
   "metadata": {
    "ExecuteTime": {
     "end_time": "2024-05-19T20:18:54.548589Z",
     "start_time": "2024-05-19T20:18:54.525589Z"
    }
   },
   "outputs": [],
   "source": [
    "if 'price' in X.columns:\n",
    "    X = X.drop('price', axis=1)\n",
    "\n",
    "#Splitting the data into training and testing sets\n",
    "X_train, X_test, y_train, y_test = train_test_split(X, y, test_size=0.2, random_state=42)"
   ]
  },
  {
   "cell_type": "code",
   "execution_count": 9,
   "id": "510eb63621b597d5",
   "metadata": {
    "ExecuteTime": {
     "end_time": "2024-05-19T20:18:54.784976Z",
     "start_time": "2024-05-19T20:18:54.741039Z"
    }
   },
   "outputs": [],
   "source": [
    "le = preprocessing.LabelEncoder()\n",
    "for column in ['cut', 'color', 'clarity']:\n",
    "    X_train[column] = le.fit_transform(X_train[column])\n",
    "    X_test[column] = le.transform(X_test[column])"
   ]
  },
  {
   "cell_type": "code",
   "execution_count": 10,
   "id": "bc21c454e92e8219",
   "metadata": {
    "ExecuteTime": {
     "end_time": "2024-05-19T20:18:54.863973Z",
     "start_time": "2024-05-19T20:18:54.835979Z"
    }
   },
   "outputs": [],
   "source": [
    "scaler = StandardScaler()\n",
    "X_train_scaled = scaler.fit_transform(X_train)\n",
    "X_test_scaled = scaler.transform(X_test)"
   ]
  },
  {
   "cell_type": "code",
   "execution_count": null,
   "id": "ed8c855b6c57f861",
   "metadata": {
    "ExecuteTime": {
     "end_time": "2024-05-19T20:18:58.122290Z",
     "start_time": "2024-05-19T20:18:54.930618Z"
    }
   },
   "outputs": [],
   "source": [
    "start_time = time.time()\n",
    "model = GDRegressor(learning_rate=0.1, max_iter=1000)\n",
    "model.fit(X_train_scaled, y_train)\n",
    "end_time = time.time()\n",
    "print(f\"Custom Model: Execution Time = {end_time - start_time} seconds\")\n",
    "predictions = model.predict(X_test_scaled)\n",
    "\n",
    "#Plotting cost history\n",
    "model.plot_cost_history()"
   ]
  },
  {
   "cell_type": "code",
   "execution_count": null,
   "id": "601a456eceeeeb12",
   "metadata": {
    "ExecuteTime": {
     "end_time": "2024-05-19T20:18:58.590186Z",
     "start_time": "2024-05-19T20:18:58.126301Z"
    }
   },
   "outputs": [],
   "source": [
    "plt.figure(figsize=(12, 6))\n",
    "\n",
    "#Scatter plot for Gradient Descent predictions\n",
    "plt.subplot(1, 2, 1)\n",
    "plt.scatter(y_test, predictions)\n",
    "plt.xlabel('True Values')\n",
    "plt.ylabel('Predictions')\n",
    "plt.title('Gradient Descent: True vs Predicted Values')\n",
    "plt.plot([y_test.min(), y_test.max()], [y_test.min(), y_test.max()], color='red')\n",
    "plt.tight_layout()\n",
    "plt.show()"
   ]
  },
  {
   "cell_type": "code",
   "execution_count": null,
   "id": "c5a7f61e91d50aa4",
   "metadata": {
    "ExecuteTime": {
     "end_time": "2024-05-19T20:18:58.745654Z",
     "start_time": "2024-05-19T20:18:58.593164Z"
    }
   },
   "outputs": [],
   "source": [
    "#SGDRegressor\n",
    "start_time = time.time()\n",
    "sgd_model = SGDRegressor()\n",
    "sgd_model.fit(X_train_scaled, y_train)\n",
    "end_time = time.time()\n",
    "print(f\"SGDRegressor: Execution Time = {end_time - start_time} seconds\")\n",
    "sgd_predictions = sgd_model.predict(X_test_scaled)"
   ]
  },
  {
   "cell_type": "code",
   "execution_count": null,
   "id": "99b81d714f7ca64c",
   "metadata": {
    "ExecuteTime": {
     "end_time": "2024-05-19T20:19:30.512268Z",
     "start_time": "2024-05-19T20:18:58.749866Z"
    }
   },
   "outputs": [],
   "source": [
    "#RandomForestRegressor\n",
    "start_time = time.time()\n",
    "rf_model = RandomForestRegressor()\n",
    "rf_model.fit(X_train_scaled, y_train)\n",
    "end_time = time.time()\n",
    "print(f\"RandomForestRegressor: Execution Time = {end_time - start_time} seconds\")\n",
    "rf_predictions = rf_model.predict(X_test_scaled)"
   ]
  },
  {
   "cell_type": "code",
   "execution_count": null,
   "id": "85315491a402143e",
   "metadata": {
    "ExecuteTime": {
     "end_time": "2024-05-19T20:19:30.527249Z",
     "start_time": "2024-05-19T20:19:30.515250Z"
    }
   },
   "outputs": [],
   "source": [
    "#Computing metrics\n",
    "custom_mse = mean_squared_error(y_test, predictions)\n",
    "sgd_mse = mean_squared_error(y_test, sgd_predictions)\n",
    "rf_mse = mean_squared_error(y_test, rf_predictions)\n",
    "\n",
    "custom_r2 = r2_score(y_test, predictions)\n",
    "sgd_r2 = r2_score(y_test, sgd_predictions)\n",
    "rf_r2 = r2_score(y_test, rf_predictions)\n",
    "\n",
    "print(f\"Custom Model: MSE = {custom_mse}, R2 = {custom_r2}\")\n",
    "print(f\"SGDRegressor: MSE = {sgd_mse}, R2 = {sgd_r2}\")\n",
    "print(f\"RandomForestRegressor: MSE = {rf_mse}, R2 = {rf_r2}\")"
   ]
  },
  {
   "cell_type": "code",
   "execution_count": null,
   "id": "2e631cc77e2daca1",
   "metadata": {
    "ExecuteTime": {
     "end_time": "2024-05-19T21:01:24.957450Z",
     "start_time": "2024-05-19T20:19:30.529248Z"
    }
   },
   "outputs": [],
   "source": [
    "#KNN\n",
    "\n",
    "X_train = X_train.reset_index(drop=True)\n",
    "y_train = y_train.reset_index(drop=True)\n",
    "X_test = X_test.reset_index(drop=True)\n",
    "y_test = y_test.reset_index(drop=True)\n",
    "\n",
    "start_time = time.time()\n",
    "knn = KNN(k=3)\n",
    "knn.fit(X_train_scaled, y_train)\n",
    "end_time = time.time()\n",
    "print(f\"Custom KNN Fit: Execution Time = {end_time - start_time} seconds\")\n",
    "knn_predictions = knn.predict(X_test_scaled)\n",
    "\n",
    "#Calculating performance metrics\n",
    "knn_mse = mean_squared_error(y_test, knn_predictions)\n",
    "knn_r2 = r2_score(y_test, knn_predictions)\n",
    "print(f\"KNN: MSE = {knn_mse}, R2 = {knn_r2}\")"
   ]
  },
  {
   "cell_type": "code",
   "execution_count": null,
   "id": "54539838da45c76",
   "metadata": {
    "ExecuteTime": {
     "end_time": "2024-05-19T21:01:25.391011Z",
     "start_time": "2024-05-19T21:01:24.961493Z"
    }
   },
   "outputs": [],
   "source": [
    "#Scatter plot for KNN predictions\n",
    "plt.subplot(1, 2, 2)\n",
    "plt.scatter(y_test, knn_predictions)\n",
    "plt.xlabel('True Values')\n",
    "plt.ylabel('Predictions')\n",
    "plt.title('KNN: True vs Predicted Values')\n",
    "plt.plot([y_test.min(), y_test.max()], [y_test.min(), y_test.max()], color='red')\n",
    "plt.tight_layout()\n",
    "plt.show()"
   ]
  },
  {
   "cell_type": "code",
   "execution_count": null,
   "id": "7f3ea7551cd98508",
   "metadata": {
    "ExecuteTime": {
     "end_time": "2024-05-19T21:01:26.014986Z",
     "start_time": "2024-05-19T21:01:25.392859Z"
    }
   },
   "outputs": [],
   "source": [
    "#KNeighborsRegressor\n",
    "\n",
    "knn_sklearn = KNeighborsRegressor(n_neighbors=3)\n",
    "\n",
    "start_time = time.time()\n",
    "knn_sklearn.fit(X_train_scaled, y_train)\n",
    "end_time = time.time()\n",
    "print(f\"KNeighborsRegressor Fit: Execution Time = {end_time - start_time} seconds\")\n",
    "\n",
    "knn_sklearn_predictions = knn_sklearn.predict(X_test_scaled)\n",
    "\n",
    "#Calculating performance metrics\n",
    "knn_sklearn_mse = mean_squared_error(y_test, knn_sklearn_predictions)\n",
    "knn_sklearn_r2 = r2_score(y_test, knn_sklearn_predictions)\n",
    "print(f\"KNeighborsRegressor: MSE = {knn_sklearn_mse}, R2 = {knn_sklearn_r2}\")"
   ]
  },
  {
   "cell_type": "code",
   "execution_count": 41,
   "id": "760ed97a",
   "metadata": {},
   "outputs": [
    {
     "name": "stdout",
     "output_type": "stream",
     "text": [
      "26546     2711\n",
      "9159      7077\n",
      "14131    32785\n",
      "15757    20998\n",
      "24632    28411\n",
      "         ...  \n",
      "11284    31149\n",
      "44732    25481\n",
      "38158    31157\n",
      "860      38945\n",
      "15795    15304\n",
      "Name: price, Length: 43152, dtype: int64\n",
      "<class 'numpy.ndarray'>\n",
      "Custom KNN Fit: Execution Time = 0.04031968116760254 seconds\n",
      "[ 685.65 2310.95 1171.5  ...  940.85 9785.05 3871.4 ]\n",
      "KNN: MSE = 850.6871428829035, R2 = 0.9544771502098657\n"
     ]
    }
   ],
   "source": [
    "import sys\n",
    "sys.path.append('../')\n",
    "\n",
    "from janick.knn import KNNRegressor\n",
    "import scipy.spatial\n",
    "\n",
    "print(np.argsort(y_train))\n",
    "\n",
    "start_time = time.time()\n",
    "model = KNNRegressor(n_neighbors=20)\n",
    "\n",
    "model.fit(X_train_scaled,y_train)\n",
    "end_time = time.time()\n",
    "print(f\"Custom KNN Fit: Execution Time = {end_time - start_time} seconds\")\n",
    "\n",
    "pred = model.predict(X_test_scaled)\n",
    "print(pred)\n",
    "\n",
    "#Calculating performance metrics\n",
    "knn_mse = mean_squared_error(y_test, pred, squared=False)\n",
    "knn_r2 = r2_score(y_test, pred)\n",
    "print(f\"KNN: MSE = {knn_mse}, R2 = {knn_r2}\")"
   ]
  },
  {
   "cell_type": "code",
   "execution_count": null,
   "id": "f8a2af74",
   "metadata": {},
   "outputs": [],
   "source": [
    "import numpy as np\n",
    "import pandas as pd\n",
    "import time\n",
    "from sklearn.model_selection import KFold\n",
    "from sklearn.metrics import mean_squared_error, r2_score\n",
    "from sklearn.linear_model import LinearRegression, SGDRegressor\n",
    "from sklearn.neighbors import KNeighborsRegressor\n",
    "from sklearn.ensemble import RandomForestRegressor\n",
    "from sklearn.svm import SVR\n",
    "\n",
    "X_normalized = X_train_scaled\n",
    "y = y_train\n",
    "\n",
    "X_test_normalized = X_test_scaled\n",
    "\n",
    "# Initialize a dictionary to store training times\n",
    "training_times = {}\n",
    "models = {\n",
    "    'KNN ours': KNNRegressor(n_neighbors=20),\n",
    "    'GD ours': GDRegressor(0.1, 1000),\n",
    "    'KNN': KNeighborsRegressor(n_neighbors=20),\n",
    "    'Linear Regression': LinearRegression(),\n",
    "    'Random Forest': RandomForestRegressor(),\n",
    "    'SVR': SVR(),\n",
    "    'SGD': SGDRegressor()\n",
    "}\n",
    "\n",
    "# models = {\n",
    "#     'KNN ours': KNNRegressor(n_neighbors=17, strategy='distance'),\n",
    "#     'KNN': KNeighborsRegressor(n_neighbors=17, weights='distance')\n",
    "# }\n",
    "\n",
    "# K-fold cross-validation\n",
    "kf = KFold(n_splits=5, shuffle=True, random_state=42)\n",
    "\n",
    "for model_name, model in models.items():\n",
    "    mse_scores = []\n",
    "    \n",
    "    for train_index, val_index in kf.split(X_normalized):\n",
    "        X_train, X_val = X_normalized.iloc[train_index], X_normalized.iloc[val_index]\n",
    "        y_train, y_val = y.iloc[train_index], y.iloc[val_index]\n",
    "        \n",
    "        start_time = time.time()\n",
    "        model.fit(X_train, y_train)\n",
    "        end_time = time.time()\n",
    "        \n",
    "        training_times[model_name] = end_time - start_time\n",
    "        \n",
    "        y_val_pred = model.predict(X_val)\n",
    "        mse = mean_squared_error(y_val, y_val_pred, squared=False)\n",
    "        mse_scores.append(mse)\n",
    "    \n",
    "    # Output the mean and standard deviation of the MSE scores\n",
    "    mean_mse = np.mean(mse_scores)\n",
    "    std_mse = np.std(mse_scores)\n",
    "    \n",
    "    print(f'{model_name} Mean MSE: {mean_mse}')\n",
    "    print(f'{model_name} Standard Deviation of MSE: {std_mse}')\n",
    "    \n",
    "    # Train final model on full training data and evaluate on the test set\n",
    "    model.fit(X_normalized, y)\n",
    "    y_test_pred = model.predict(X_test_normalized)\n",
    "    test_mse = mean_squared_error(y_test, y_test_pred, squared=False)\n",
    "    test_r2 = r2_score(y_test, y_test_pred)\n",
    "    \n",
    "    print(f'{model_name} Test MSE: {test_mse}')\n",
    "    print(f'{model_name} Test R^2: {test_r2}')\n",
    "    print(f'{model_name} training time: {training_times[model_name]:.4f} seconds')\n",
    "    print(\"-\" * 50)\n",
    "\n",
    "# Print training times\n",
    "for model_name, train_time in training_times.items():\n",
    "    print(f\"{model_name} training time: {train_time:.4f} seconds\")\n",
    "\n"
   ]
  },
  {
   "cell_type": "code",
   "execution_count": null,
   "id": "95367dbf",
   "metadata": {},
   "outputs": [],
   "source": []
  }
 ],
 "metadata": {
  "kernelspec": {
   "display_name": "Python 3 (ipykernel)",
   "language": "python",
   "name": "python3"
  },
  "language_info": {
   "codemirror_mode": {
    "name": "ipython",
    "version": 3
   },
   "file_extension": ".py",
   "mimetype": "text/x-python",
   "name": "python",
   "nbconvert_exporter": "python",
   "pygments_lexer": "ipython3",
   "version": "3.8.10"
  }
 },
 "nbformat": 4,
 "nbformat_minor": 5
}
